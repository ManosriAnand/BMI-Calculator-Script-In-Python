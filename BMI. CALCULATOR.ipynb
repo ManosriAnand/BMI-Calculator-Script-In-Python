{
 "cells": [
  {
   "cell_type": "markdown",
   "id": "2fa17ee8-d2de-435f-bdc6-4ba38f0a2f2f",
   "metadata": {},
   "source": [
    "# BMI"
   ]
  },
  {
   "cell_type": "code",
   "execution_count": 1,
   "id": "042ccaa2-8a96-487a-a523-782b0834dda6",
   "metadata": {},
   "outputs": [
    {
     "name": "stdin",
     "output_type": "stream",
     "text": [
      "enter your weight in kg: 49.9\n",
      "enter your height in meters: 1.75\n"
     ]
    },
    {
     "name": "stdout",
     "output_type": "stream",
     "text": [
      "your BMI is:16.293878\n",
      "Underweight\n"
     ]
    }
   ],
   "source": [
    "weight=float(input('enter your weight in kg:'))\n",
    "height=float(input('enter your height in meters:'))\n",
    "bmi= weight/(height**2)\n",
    "print(f'your BMI is:{bmi:2f}')\n",
    "if bmi<18.5:\n",
    "    print(\"Underweight\")\n",
    "elif 18.5<=bmi<24.9:\n",
    "    print('Normal weight')\n",
    "elif 25<=bmi<29.9:\n",
    "    print('Overweight')\n",
    "else:\n",
    "    print('Obesity')"
   ]
  },
  {
   "cell_type": "code",
   "execution_count": null,
   "id": "4e2f3507-a5cf-44d2-bfe2-2764c1c269dc",
   "metadata": {},
   "outputs": [],
   "source": []
  }
 ],
 "metadata": {
  "kernelspec": {
   "display_name": "Python 3 (ipykernel)",
   "language": "python",
   "name": "python3"
  },
  "language_info": {
   "codemirror_mode": {
    "name": "ipython",
    "version": 3
   },
   "file_extension": ".py",
   "mimetype": "text/x-python",
   "name": "python",
   "nbconvert_exporter": "python",
   "pygments_lexer": "ipython3",
   "version": "3.12.4"
  }
 },
 "nbformat": 4,
 "nbformat_minor": 5
}
